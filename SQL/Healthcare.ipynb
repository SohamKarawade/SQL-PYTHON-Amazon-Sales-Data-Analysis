{
 "cells": [
  {
   "cell_type": "code",
   "execution_count": 27,
   "id": "fb5c204b-5e91-4753-a683-e9b8dd10a119",
   "metadata": {},
   "outputs": [],
   "source": [
    "import pandas as pd\n",
    "import sqlite3\n",
    "from sqlalchemy import create_engine"
   ]
  },
  {
   "cell_type": "code",
   "execution_count": 28,
   "id": "264d3b92-67c3-4cd9-a95f-ab1c37ef70ad",
   "metadata": {},
   "outputs": [],
   "source": [
    "pd.set_option('display.float_format', '{:,.2f}'.format)"
   ]
  },
  {
   "cell_type": "code",
   "execution_count": 29,
   "id": "a0f8e2b9-2a5e-42b8-aa22-202a2572dad9",
   "metadata": {},
   "outputs": [],
   "source": [
    "# Load dataset into a DataFrame\n",
    "df = pd.read_csv(r'C:\\Users\\User\\Desktop\\Projects\\SQL\\Healthcare & Hospital Management\\Dataset\\amazon_sales_analysis.csv')"
   ]
  },
  {
   "cell_type": "code",
   "execution_count": 30,
   "id": "4de5bb21-7884-4e6e-9bdb-e0390924a419",
   "metadata": {},
   "outputs": [],
   "source": [
    "# Replace with your PostgreSQL credentials\n",
    "user = 'postgres'\n",
    "password = ' ' \n",
    "host = 'localhost'  \n",
    "port = '5432'       \n",
    "database = 'amazon'\n",
    "\n",
    "# Create connection string\n",
    "engine = create_engine(f'postgresql+psycopg2://{user}:{password}@{host}:{port}/{database}')"
   ]
  },
  {
   "cell_type": "code",
   "execution_count": 31,
   "id": "f1ef17a2-ad8b-49f4-8484-f4602ec91481",
   "metadata": {},
   "outputs": [
    {
     "name": "stdout",
     "output_type": "stream",
     "text": [
      "   order_id customer_id       customer_name  gender  age  \\\n",
      "0  532b3f3e    90101340        Wayne Harris    Male   20   \n",
      "1  dee15a50    d9098344        Melissa Long    Male   40   \n",
      "2  07bd779e    be9e8d15    Christine Guzman    Male   43   \n",
      "3  f52cb099    bf06c8a5       Veronica Bass    Male   61   \n",
      "4  8d2d3abc    850dfded        Jason Cannon    Male   44   \n",
      "5  5099dfc9    744735d3  Michelle Dominguez    Male   52   \n",
      "6  fc01e1a7    c9567f43     Danielle Warren   Other   23   \n",
      "7  23051fa8    2e2d6989      Felicia Vaughn   Other   56   \n",
      "8  25fe645f    8635d9ce      Michelle Wells    Male   65   \n",
      "9  402f4077    4e272219           Sean West  Female   64   \n",
      "\n",
      "                             email                city           state  \\\n",
      "0             jose55@stevenson.com          East Shawn         Georgia   \n",
      "1                jacob94@jones.com  New Williamborough         Wyoming   \n",
      "2                qstewart@ross.com          Port Devon        Nebraska   \n",
      "3  russellstephen@santos-watts.com   South Rhondamouth        Colorado   \n",
      "4     holly52@johnson-campbell.com          Port Sarah        Colorado   \n",
      "5          bakerashley@hotmail.com    New Michelleberg        Illinois   \n",
      "6          adamsdavid@villegas.com          West April  South Carolina   \n",
      "7      melissawashington@yahoo.com          Frankshire      New Mexico   \n",
      "8              zmoreno@hotmail.com         North Jason      New Jersey   \n",
      "9        sheiladaniels@hotmail.com            Khanland            Utah   \n",
      "\n",
      "  country product_id product_name        category         sub_category  price  \\\n",
      "0     USA   ab3431c6  Non-Fiction           Books  Non-Fiction Model 8 318.44   \n",
      "1     USA   59bc1024      Perfume          Beauty      Perfume Model 1  47.67   \n",
      "2     USA   d7fea14e      T-Shirt        Clothing      T-Shirt Model 8  57.54   \n",
      "3     USA   5bca2d89      T-Shirt        Clothing      T-Shirt Model 8 938.48   \n",
      "4     USA   56ff47e7    Biography           Books    Biography Model 4 942.32   \n",
      "5     USA   8d2ca5bc   Face Cream          Beauty   Face Cream Model 7 413.76   \n",
      "6     USA   49d64d94        Shoes        Clothing        Shoes Model 6 716.49   \n",
      "7     USA   e2d94ddf      Blender  Home & Kitchen      Blender Model 7 470.79   \n",
      "8     USA   d3a7aee6        Jeans        Clothing        Jeans Model 5 856.32   \n",
      "9     USA   68de836d       Laptop     Electronics       Laptop Model 1 240.84   \n",
      "\n",
      "   quantity  order_date delivery_date    payment_method  rating  \n",
      "0         4  2024-08-26    2023-12-30        Debit Card       5  \n",
      "1         4  2025-03-05    2024-04-04       Credit Card       3  \n",
      "2         1  2024-01-26    2025-01-07        Debit Card       1  \n",
      "3         4  2023-12-05    2024-06-10        Debit Card       2  \n",
      "4         1  2025-02-26    2024-08-26  Cash on Delivery       2  \n",
      "5         4  2023-04-21    2023-05-09       Credit Card       4  \n",
      "6         2  2024-10-16    2024-05-07       Net Banking       1  \n",
      "7         1  2023-12-06    2023-05-18  Cash on Delivery       4  \n",
      "8         3  2024-10-09    2023-06-26  Cash on Delivery       5  \n",
      "9         1  2024-06-13    2024-08-23       Credit Card       3  \n"
     ]
    }
   ],
   "source": [
    "#1.Retrieve all columns for the first 10 orders.\n",
    "query = \"\"\"\n",
    "SELECT * FROM amazon \n",
    "LIMIT 10;\n",
    "\"\"\"\n",
    "df = pd.read_sql(query, engine)\n",
    "print(df)"
   ]
  },
  {
   "cell_type": "code",
   "execution_count": 32,
   "id": "249e5337-d357-402c-9cb2-43d471702388",
   "metadata": {},
   "outputs": [
    {
     "name": "stdout",
     "output_type": "stream",
     "text": [
      "   total_orders\n",
      "0          1000\n"
     ]
    }
   ],
   "source": [
    "# 2.Find the total number of orders placed.\n",
    "query = \"\"\"\n",
    "SELECT COUNT(order_id) AS total_orders FROM amazon;\n",
    "\"\"\"\n",
    "df = pd.read_sql(query, engine)\n",
    "print(df)"
   ]
  },
  {
   "cell_type": "code",
   "execution_count": 33,
   "id": "2af38dbb-0b45-4884-abb5-0b60e916fe2d",
   "metadata": {},
   "outputs": [
    {
     "name": "stdout",
     "output_type": "stream",
     "text": [
      "     payment_method\n",
      "0               UPI\n",
      "1       Net Banking\n",
      "2        Debit Card\n",
      "3  Cash on Delivery\n",
      "4       Credit Card\n"
     ]
    }
   ],
   "source": [
    "# 3.List all unique payment methods used.\n",
    "query = \"\"\"\n",
    "SELECT DISTINCT payment_method FROM amazon;\n",
    "\"\"\"\n",
    "df = pd.read_sql(query, engine)\n",
    "print(df)"
   ]
  },
  {
   "cell_type": "code",
   "execution_count": 34,
   "id": "8ba6f991-6ce1-4fc3-a1c4-25b4fe60991e",
   "metadata": {},
   "outputs": [
    {
     "name": "stdout",
     "output_type": "stream",
     "text": [
      "   total_product_sold\n",
      "0                2974\n"
     ]
    }
   ],
   "source": [
    "# 4.Find the total quantity of products sold.\n",
    "query = \"\"\"\n",
    "SELECT SUM(quantity) AS TOTAL_PRODUCT_SOLD FROM amazon;\n",
    "\"\"\"\n",
    "df = pd.read_sql(query, engine)\n",
    "print(df)"
   ]
  },
  {
   "cell_type": "code",
   "execution_count": 35,
   "id": "40663cb3-f352-416c-9399-04823ed460dc",
   "metadata": {},
   "outputs": [
    {
     "name": "stdout",
     "output_type": "stream",
     "text": [
      "    order_id customer_id     customer_name  gender  age  \\\n",
      "0   09279b3c    c40eab35     Randy Escobar    Male   40   \n",
      "1   fb4ec46f    d2e184ac      Susan Wagner   Other   34   \n",
      "2   7d969e6d    ccb336d8       Mark Taylor   Other   37   \n",
      "3   638818d9    d4ac9dad      James Murray    Male   57   \n",
      "4   39b9d79a    1ede72fa    Thomas Jimenez  Female   23   \n",
      "5   894da403    9b33ee63       Paul Tucker    Male   33   \n",
      "6   5d2bfb12    1ed92525      James Romero   Other   47   \n",
      "7   2aa16dd2    76bf5628     Ronald Martin   Other   24   \n",
      "8   1f482732    71ecdc4f     Ryan Castillo    Male   23   \n",
      "9   e6fb283c    166f0261        Kim Morgan   Other   28   \n",
      "10  de97c10d    eb5b9dcd  Travis Blackwell    Male   31   \n",
      "11  f7f12405    58d0cdf3      Arthur Smith    Male   20   \n",
      "12  167fcd30    bdf2bc3d      Hailey Knapp   Other   45   \n",
      "\n",
      "                            email                 city       state country  \\\n",
      "0      margaretthompson@yahoo.com  South Martinchester  California     USA   \n",
      "1           shanejacobs@yahoo.com           Lake Tyler  California     USA   \n",
      "2       brandistewart@delgado.biz           Lake Jamie  California     USA   \n",
      "3             drobinson@yahoo.com     Lake Christopher  California     USA   \n",
      "4   ucontreras@hopkins-waters.com         Victoriafort  California     USA   \n",
      "5          myersjames@hotmail.com             Lisaberg  California     USA   \n",
      "6                 lcain@haney.com    East Kimberlyland  California     USA   \n",
      "7            hornkyle@kennedy.com            Debraview  California     USA   \n",
      "8          trevinojason@yahoo.com           East Scott  California     USA   \n",
      "9             gbarker@garrett.com          Port Andrea  California     USA   \n",
      "10             halljoel@yahoo.com             Lisaberg  California     USA   \n",
      "11          victorterry@yahoo.com            Hayesview  California     USA   \n",
      "12             lclark@hotmail.com        West Patricia  California     USA   \n",
      "\n",
      "   product_id product_name        category       sub_category  price  \\\n",
      "0    3c4ce0c1      Sweater        Clothing    Sweater Model 5 555.51   \n",
      "1    8cde2e1f      Shampoo          Beauty   Shampoo Model 10 671.69   \n",
      "2    533abb5b      Toaster  Home & Kitchen    Toaster Model 9 480.23   \n",
      "3    98d783a3      Fiction           Books    Fiction Model 5 900.10   \n",
      "4    91e54149      Fiction           Books    Fiction Model 7 472.77   \n",
      "5    40e96eae      Blender  Home & Kitchen    Blender Model 3 976.70   \n",
      "6    9c1abc4f       Jacket        Clothing     Jacket Model 4 833.65   \n",
      "7    c7b9d439      T-Shirt        Clothing    T-Shirt Model 4 977.64   \n",
      "8    9683342d       Jacket        Clothing    Jacket Model 10 144.09   \n",
      "9    0510d995      Toaster  Home & Kitchen   Toaster Model 10 996.15   \n",
      "10   468b8e4e        Jeans        Clothing      Jeans Model 6 149.04   \n",
      "11   77df5601    Biography           Books  Biography Model 7 104.37   \n",
      "12   e226de80     Lipstick          Beauty   Lipstick Model 4 401.31   \n",
      "\n",
      "    quantity  order_date delivery_date    payment_method  rating  \n",
      "0          4  2024-06-23    2023-11-13       Net Banking       5  \n",
      "1          3  2023-09-19    2023-05-26  Cash on Delivery       1  \n",
      "2          4  2025-02-07    2024-03-04        Debit Card       4  \n",
      "3          1  2024-06-12    2024-06-08        Debit Card       1  \n",
      "4          1  2023-05-07    2025-03-24        Debit Card       5  \n",
      "5          3  2025-03-03    2023-08-23               UPI       4  \n",
      "6          2  2024-04-08    2023-08-26  Cash on Delivery       2  \n",
      "7          5  2024-09-09    2024-03-24               UPI       4  \n",
      "8          3  2024-03-20    2024-12-24  Cash on Delivery       4  \n",
      "9          2  2024-09-30    2024-04-15       Credit Card       2  \n",
      "10         4  2024-02-23    2024-11-17       Net Banking       2  \n",
      "11         5  2023-06-12    2023-12-05       Credit Card       1  \n",
      "12         2  2023-07-25    2024-01-09        Debit Card       1  \n"
     ]
    }
   ],
   "source": [
    "# 5.Show all orders where the customer is from 'California’.\n",
    "query = \"\"\"\n",
    "SELECT * FROM amazon\n",
    "WHERE state = 'California';\n",
    "\"\"\"\n",
    "df = pd.read_sql(query, engine)\n",
    "print(df)"
   ]
  },
  {
   "cell_type": "code",
   "execution_count": 36,
   "id": "ad6beb27-863d-4369-988a-6e845cea837a",
   "metadata": {},
   "outputs": [
    {
     "name": "stdout",
     "output_type": "stream",
     "text": [
      "   total_revenue\n",
      "0   1,494,242.92\n"
     ]
    }
   ],
   "source": [
    "# 6.Find the total revenue generated (Price * Quantity).\n",
    "query = \"\"\"\n",
    "SELECT SUM(quantity*price) AS total_revenue FROM amazon;\n",
    "\"\"\"\n",
    "df = pd.read_sql(query, engine)\n",
    "print(df)"
   ]
  },
  {
   "cell_type": "code",
   "execution_count": 37,
   "id": "7afea7e6-4357-4da9-b098-e82afe040c59",
   "metadata": {},
   "outputs": [
    {
     "name": "stdout",
     "output_type": "stream",
     "text": [
      "   order_id customer_id    customer_name  gender  age  \\\n",
      "0  6a8728fc    f34ff913  Rebecca Rowland   Other   43   \n",
      "1  b3f6fcbf    2ef393a4   Melvin Johnson   Other   38   \n",
      "2  7c29d4f9    2dbb2113    George Turner    Male   47   \n",
      "3  f333e4b7    d4878af2   Michael Harper   Other   63   \n",
      "4  4e716e13    99c84d83   Joshua Krueger  Female   62   \n",
      "\n",
      "                        email         city         state country product_id  \\\n",
      "0  penapaul@wright-green.info    New Molly       Arizona     USA   4b9832db   \n",
      "1  michellehughes@hotmail.com    Jacobland   Mississippi     USA   4edf1b7d   \n",
      "2       mjennings@hotmail.com  New Randall       Wyoming     USA   6221cad5   \n",
      "3    molinajoel@hernandez.net   Bensonview  Pennsylvania     USA   26c133ec   \n",
      "4       melissa45@hotmail.com  Duncanburgh  North Dakota     USA   e6e329ac   \n",
      "\n",
      "  product_name  category       sub_category  price  quantity  order_date  \\\n",
      "0        Shoes  Clothing      Shoes Model 2 148.32         5  2025-01-01   \n",
      "1      Fiction     Books    Fiction Model 9 730.10         5  2024-08-28   \n",
      "2     Lipstick    Beauty   Lipstick Model 4 326.15         5  2024-10-16   \n",
      "3    Biography     Books  Biography Model 5 524.44         5  2024-10-02   \n",
      "4      T-Shirt  Clothing    T-Shirt Model 8 631.23         5  2023-06-01   \n",
      "\n",
      "  delivery_date    payment_method  rating  \n",
      "0    2024-08-13        Debit Card       2  \n",
      "1    2024-05-29  Cash on Delivery       1  \n",
      "2    2025-02-17       Net Banking       3  \n",
      "3    2023-06-03               UPI       3  \n",
      "4    2023-09-04       Credit Card       3  \n"
     ]
    }
   ],
   "source": [
    "# 7.Get the top 5 most purchased products by quantity.\n",
    "query = \"\"\"\n",
    "SELECT * FROM amazon ORDER BY quantity DESC LIMIT 5;\n",
    "\"\"\"\n",
    "df = pd.read_sql(query, engine)\n",
    "print(df)"
   ]
  },
  {
   "cell_type": "code",
   "execution_count": 38,
   "id": "6e619bad-d8be-476a-9f26-bff237c9731e",
   "metadata": {},
   "outputs": [
    {
     "name": "stdout",
     "output_type": "stream",
     "text": [
      "                  city  total_orders\n",
      "0            East Mark             2\n",
      "1     Christopherhaven             2\n",
      "2          Port Daniel             1\n",
      "3    North Michaelbury             1\n",
      "4         Cynthiahaven             1\n",
      "..                 ...           ...\n",
      "951       North Kendra             1\n",
      "952         Collinston             1\n",
      "953         East Steve             1\n",
      "954           Eddieton             1\n",
      "955        Lake Kelsey             1\n",
      "\n",
      "[956 rows x 2 columns]\n"
     ]
    }
   ],
   "source": [
    "# 8.Find the number of orders placed per city.\n",
    "query = \"\"\"\n",
    "SELECT city, COUNT(order_id) AS total_orders FROM amazon GROUP by city;\n",
    "\"\"\"\n",
    "df = pd.read_sql(query, engine)\n",
    "print(df)"
   ]
  },
  {
   "cell_type": "code",
   "execution_count": 39,
   "id": "ec9120c9-752c-47e1-b083-0f6503db4230",
   "metadata": {},
   "outputs": [
    {
     "name": "stdout",
     "output_type": "stream",
     "text": [
      "     order_id customer_id     customer_name gender  age  \\\n",
      "0    dee15a50    d9098344      Melissa Long   Male   40   \n",
      "1    07bd779e    be9e8d15  Christine Guzman   Male   43   \n",
      "2    f52cb099    bf06c8a5     Veronica Bass   Male   61   \n",
      "3    8d2d3abc    850dfded      Jason Cannon   Male   44   \n",
      "4    fc01e1a7    c9567f43   Danielle Warren  Other   23   \n",
      "..        ...         ...               ...    ...  ...   \n",
      "610  d2478f99    de37881b       Megan Adams  Other   34   \n",
      "611  ac994e1c    5c042249  Melissa Campbell   Male   38   \n",
      "612  cb0e3a9b    dc845f8d       Alexa Terry  Other   63   \n",
      "613  44f26e5b    ecd6e53b    Breanna Miller   Male   42   \n",
      "614  a73aa5b5    16ceb344      Robin Tanner   Male   31   \n",
      "\n",
      "                               email                city           state  \\\n",
      "0                  jacob94@jones.com  New Williamborough         Wyoming   \n",
      "1                  qstewart@ross.com          Port Devon        Nebraska   \n",
      "2    russellstephen@santos-watts.com   South Rhondamouth        Colorado   \n",
      "3       holly52@johnson-campbell.com          Port Sarah        Colorado   \n",
      "4            adamsdavid@villegas.com          West April  South Carolina   \n",
      "..                               ...                 ...             ...   \n",
      "610             laurie68@hotmail.com        Richardsbury    South Dakota   \n",
      "611              felicia03@yahoo.com         West Sherri         Alabama   \n",
      "612             benjamin86@yahoo.com          Dustinfurt            Ohio   \n",
      "613              troysalas@yahoo.com          New Andrea         Indiana   \n",
      "614   michaellivingston@jennings.com          Caseyburgh        Colorado   \n",
      "\n",
      "    country product_id product_name        category        sub_category  \\\n",
      "0       USA   59bc1024      Perfume          Beauty     Perfume Model 1   \n",
      "1       USA   d7fea14e      T-Shirt        Clothing     T-Shirt Model 8   \n",
      "2       USA   5bca2d89      T-Shirt        Clothing     T-Shirt Model 8   \n",
      "3       USA   56ff47e7    Biography           Books   Biography Model 4   \n",
      "4       USA   49d64d94        Shoes        Clothing       Shoes Model 6   \n",
      "..      ...        ...          ...             ...                 ...   \n",
      "610     USA   612ae7c9      Toaster  Home & Kitchen     Toaster Model 6   \n",
      "611     USA   fd1c7cb3       Tablet     Electronics     Tablet Model 10   \n",
      "612     USA   1c84ed0b      Toaster  Home & Kitchen     Toaster Model 5   \n",
      "613     USA   0bc98bc1      Shampoo          Beauty     Shampoo Model 7   \n",
      "614     USA   760741cf   Smartphone     Electronics  Smartphone Model 9   \n",
      "\n",
      "     price  quantity  order_date delivery_date    payment_method  rating  \n",
      "0    47.67         4  2025-03-05    2024-04-04       Credit Card       3  \n",
      "1    57.54         1  2024-01-26    2025-01-07        Debit Card       1  \n",
      "2   938.48         4  2023-12-05    2024-06-10        Debit Card       2  \n",
      "3   942.32         1  2025-02-26    2024-08-26  Cash on Delivery       2  \n",
      "4   716.49         2  2024-10-16    2024-05-07       Net Banking       1  \n",
      "..     ...       ...         ...           ...               ...     ...  \n",
      "610 135.78         1  2024-10-19    2023-08-02               UPI       1  \n",
      "611 348.31         3  2025-01-20    2024-06-20       Net Banking       1  \n",
      "612 435.39         3  2023-07-22    2025-03-05               UPI       1  \n",
      "613 208.63         3  2025-02-06    2024-03-31               UPI       3  \n",
      "614 232.40         3  2024-05-24    2024-03-17  Cash on Delivery       1  \n",
      "\n",
      "[615 rows x 19 columns]\n"
     ]
    }
   ],
   "source": [
    "# 9.Retrieve all orders where the rating is below 3.\n",
    "\n",
    "query = \"\"\"\n",
    "SELECT * FROM amazon\n",
    "WHERE rating <=3;\n",
    "\"\"\"\n",
    "df = pd.read_sql(query, engine)\n",
    "print(df)"
   ]
  },
  {
   "cell_type": "code",
   "execution_count": 40,
   "id": "11c37e65-374c-4ef4-8c1d-b1641290c9e3",
   "metadata": {},
   "outputs": [
    {
     "name": "stdout",
     "output_type": "stream",
     "text": [
      "         category  average_price\n",
      "0     Electronics         469.26\n",
      "1  Home & Kitchen         504.30\n",
      "2        Clothing         528.07\n",
      "3           Books         498.77\n",
      "4          Beauty         514.30\n"
     ]
    }
   ],
   "source": [
    "# 10.Find the average price of products in each category.\n",
    "\n",
    "\n",
    "query = \"\"\"\n",
    "SELECT category, AVG(price) AS average_price FROM amazon GROUP BY category;\n",
    "\"\"\"\n",
    "df = pd.read_sql(query, engine)\n",
    "print(df)"
   ]
  },
  {
   "cell_type": "code",
   "execution_count": 41,
   "id": "e6daf44a-99d3-47cd-99ee-bc0790e3c265",
   "metadata": {},
   "outputs": [
    {
     "name": "stdout",
     "output_type": "stream",
     "text": [
      "   month  total_revenue\n",
      "0   7.00     159,649.35\n"
     ]
    }
   ],
   "source": [
    "# 11.Identify the month with the highest sales revenue.\n",
    "query = \"\"\"\n",
    "SELECT EXTRACT(MONTH FROM order_date) AS month,\n",
    "SUM(price * quantity) AS total_revenue\n",
    "FROM amazon\n",
    "GROUP BY month \n",
    "ORDER BY total_revenue DESC\n",
    "LIMIT 1;\n",
    "\"\"\"\n",
    "df = pd.read_sql(query, engine)\n",
    "print(df)"
   ]
  },
  {
   "cell_type": "code",
   "execution_count": 42,
   "id": "1427de5e-1ba8-491b-b868-61205d111194",
   "metadata": {},
   "outputs": [
    {
     "name": "stdout",
     "output_type": "stream",
     "text": [
      "         category  total_quantity\n",
      "0  Home & Kitchen             638\n"
     ]
    }
   ],
   "source": [
    "# 12.Find the most popular product category based on the number of orders.\n",
    "query = \"\"\"\n",
    "SELECT category, \n",
    "SUM(quantity) AS total_quantity FROM amazon \n",
    "GROUP BY category \n",
    "ORDER BY total_quantity \n",
    "DESC LIMIT 1;\n",
    "\"\"\"\n",
    "df = pd.read_sql(query, engine)\n",
    "print(df)"
   ]
  },
  {
   "cell_type": "code",
   "execution_count": 43,
   "id": "2a935f78-2816-4d86-9a2e-3588c0d56c03",
   "metadata": {},
   "outputs": [
    {
     "name": "stdout",
     "output_type": "stream",
     "text": [
      "     order_id  delivery_time_in_days\n",
      "0    532b3f3e                   -240\n",
      "1    dee15a50                   -335\n",
      "2    07bd779e                    347\n",
      "3    f52cb099                    188\n",
      "4    8d2d3abc                   -184\n",
      "..        ...                    ...\n",
      "995  ac994e1c                   -214\n",
      "996  cb0e3a9b                    592\n",
      "997  997c80b4                   -152\n",
      "998  44f26e5b                   -312\n",
      "999  a73aa5b5                    -68\n",
      "\n",
      "[1000 rows x 2 columns]\n"
     ]
    }
   ],
   "source": [
    "# 13.Calculate the time difference (in days) between order date and delivery date for each order.\n",
    "query = \"\"\"\n",
    "SELECT order_id, (delivery_date - order_date) AS delivery_time_in_days  \n",
    "FROM amazon;\n",
    "\"\"\"\n",
    "df = pd.read_sql(query, engine)\n",
    "print(df)"
   ]
  },
  {
   "cell_type": "code",
   "execution_count": 44,
   "id": "8b772bc4-257d-4a9c-8102-379a4fcefe05",
   "metadata": {},
   "outputs": [
    {
     "name": "stdout",
     "output_type": "stream",
     "text": [
      "    customer_id       customer_name  total_spend\n",
      "0      76bf5628       Ronald Martin     4,888.20\n",
      "1      747472ce       Laurie Foster     4,812.60\n",
      "2      03634a21    Brittney Beltran     4,807.55\n",
      "3      61cda70d    Christopher Levy     4,807.30\n",
      "4      d61f51be  Dr. Robert Gray MD     4,783.95\n",
      "..          ...                 ...          ...\n",
      "995    5c0eb179      Tracie Navarro        21.28\n",
      "996    49412e1d       Jennifer Sims        20.81\n",
      "997    4aa6fd92          John Mejia        20.21\n",
      "998    cdf25241          Mary Casey        18.34\n",
      "999    5b168f0e         Sean Austin        11.73\n",
      "\n",
      "[1000 rows x 3 columns]\n"
     ]
    }
   ],
   "source": [
    "# 14.Get the top 3 customers who spent the most money.\n",
    "query = \"\"\"\n",
    "SELECT customer_id, customer_name, \n",
    "SUM(price*quantity) AS total_spend FROM amazon \n",
    "GROUP BY customer_id, customer_name \n",
    "ORDER BY total_spend DESC;\n",
    "\"\"\"\n",
    "df = pd.read_sql(query, engine)\n",
    "print(df)"
   ]
  },
  {
   "cell_type": "code",
   "execution_count": 45,
   "id": "c285e447-260a-4ce5-a06d-b29d47fa3adb",
   "metadata": {},
   "outputs": [
    {
     "name": "stdout",
     "output_type": "stream",
     "text": [
      "      product_name  revenue_percentage\n",
      "0        Microwave                5.43\n",
      "1        Biography                4.92\n",
      "2      Non-Fiction                4.91\n",
      "3      Body Lotion                4.87\n",
      "4           Laptop                4.83\n",
      "5            Jeans                4.80\n",
      "6           Jacket                4.53\n",
      "7          Blender                4.33\n",
      "8   Vacuum Cleaner                4.29\n",
      "9       Headphones                4.23\n",
      "10         Toaster                4.16\n",
      "11         Perfume                4.08\n",
      "12      Smartphone                3.98\n",
      "13          Tablet                3.91\n",
      "14         Shampoo                3.82\n",
      "15         Fiction                3.68\n",
      "16    Coffee Maker                3.63\n",
      "17         T-Shirt                3.56\n",
      "18           Shoes                3.41\n",
      "19      Smartwatch                3.27\n",
      "20      Face Cream                3.19\n",
      "21          Comics                3.14\n",
      "22     Educational                3.07\n",
      "23         Sweater                3.05\n",
      "24        Lipstick                2.91\n"
     ]
    }
   ],
   "source": [
    "# 15.Find the percentage of total sales contributed by each product category.\n",
    "query = \"\"\"\n",
    "SELECT product_name,  \n",
    "ROUND(SUM(price * quantity) * 100.0 / (SELECT SUM(price * quantity) FROM amazon), 2) AS revenue_percentage  \n",
    "FROM amazon  \n",
    "GROUP BY product_name  \n",
    "ORDER BY revenue_percentage DESC;\n",
    "\"\"\"\n",
    "df = pd.read_sql(query, engine)\n",
    "print(df)"
   ]
  }
 ],
 "metadata": {
  "kernelspec": {
   "display_name": "Python 3 (ipykernel)",
   "language": "python",
   "name": "python3"
  },
  "language_info": {
   "codemirror_mode": {
    "name": "ipython",
    "version": 3
   },
   "file_extension": ".py",
   "mimetype": "text/x-python",
   "name": "python",
   "nbconvert_exporter": "python",
   "pygments_lexer": "ipython3",
   "version": "3.13.2"
  }
 },
 "nbformat": 4,
 "nbformat_minor": 5
}
